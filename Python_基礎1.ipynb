{
 "cells": [
  {
   "cell_type": "code",
   "execution_count": 3,
   "id": "a2853d6e",
   "metadata": {},
   "outputs": [
    {
     "name": "stdout",
     "output_type": "stream",
     "text": [
      "原告需賠償金額： 7706 元\n",
      "被告需賠償金額： 17981 元\n"
     ]
    }
   ],
   "source": [
    "money=25688\n",
    "a=money*0.3\n",
    "b=money*0.7\n",
    "print(\"原告需賠償金額：\", int(a),\"元\")\n",
    "print(\"被告需賠償金額：\", int(b),\"元\")"
   ]
  },
  {
   "cell_type": "code",
   "execution_count": 4,
   "id": "317fe1b8",
   "metadata": {},
   "outputs": [
    {
     "name": "stdout",
     "output_type": "stream",
     "text": [
      "償還了共 12608 元\n"
     ]
    }
   ],
   "source": [
    "money=11805\n",
    "a=money*(1+0.0005)**59\n",
    "b=150+300\n",
    "print(\"償還了共\", int(a+b), \"元\")"
   ]
  },
  {
   "cell_type": "code",
   "execution_count": 5,
   "id": "fccf276d",
   "metadata": {},
   "outputs": [
    {
     "name": "stdout",
     "output_type": "stream",
     "text": [
      "請輸入案件:被告闖紅燈\n",
      "被告賠償100%\n"
     ]
    }
   ],
   "source": [
    "event=input(\"請輸入案件:\")\n",
    "if event == (\"被告闖紅燈\"):\n",
    "    print (\"被告賠償100%\")\n",
    "elif event == (\"原告闖紅燈\"):\n",
    "    print (\"原告多被告少\")\n",
    "elif event == (\"被告原告皆闖紅燈\"):\n",
    "    print (\"原告被告各50%\")\n",
    "else:\n",
    "    print (\"請輸入有效訊息\")"
   ]
  }
 ],
 "metadata": {
  "kernelspec": {
   "display_name": "Python 3 (ipykernel)",
   "language": "python",
   "name": "python3"
  },
  "language_info": {
   "codemirror_mode": {
    "name": "ipython",
    "version": 3
   },
   "file_extension": ".py",
   "mimetype": "text/x-python",
   "name": "python",
   "nbconvert_exporter": "python",
   "pygments_lexer": "ipython3",
   "version": "3.9.12"
  }
 },
 "nbformat": 4,
 "nbformat_minor": 5
}
